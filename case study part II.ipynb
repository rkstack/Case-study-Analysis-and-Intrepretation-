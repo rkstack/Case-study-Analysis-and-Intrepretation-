{
 "cells": [
  {
   "cell_type": "markdown",
   "metadata": {},
   "source": [
    "## Project : Case Study (Part - II)"
   ]
  },
  {
   "cell_type": "markdown",
   "metadata": {},
   "source": [
    "#### Case Study : Question 1"
   ]
  },
  {
   "cell_type": "markdown",
   "metadata": {},
   "source": [
    "##### Your Friend has developed the Product and he wants to establish the product startup and he is searching for a perfect location where getting the investment has a high chance. But due to its financial restriction, he can choose only between three locations -  Bangalore, Mumbai, and NCR. As a friend, you want to help your friend deciding the location. NCR include Gurgaon, Noida and New Delhi. Find the location where the most number of funding is done. That means, find the location where startups has received funding maximum number of times. Plot the bar graph between location and number of funding. Take city name \"Delhi\" as \"New Delhi\". Check the case-sensitiveness of cities also. That means, at some place instead of \"Bangalore\", \"bangalore\" is given. Take city name as \"Bangalore\". For few startups multiple locations are given, one Indian and one Foreign. Consider the startup if any one of the city lies in given locations"
   ]
  },
  {
   "cell_type": "code",
   "execution_count": 1,
   "metadata": {},
   "outputs": [
    {
     "name": "stdout",
     "output_type": "stream",
     "text": [
      "NCR 703\n",
      "Bangalore 635\n",
      "Mumbai 449\n"
     ]
    },
    {
     "data": {
      "image/png": "[encoded data removed]",
      "text/plain": [
       "<Figure size 432x288 with 1 Axes>"
      ]
     },
     "metadata": {
      "needs_background": "light"
     },
     "output_type": "display_data"
    }
   ],
   "source": [
    "import pandas as pd\n",
    "import numpy as np\n",
    "import matplotlib.pyplot as plt\n",
    "\n",
    "df=pd.read_csv('startup_funding.csv',encoding='utf-8')\n",
    "\n",
    "df[\"CityLocation\"].dropna(inplace=True)\n",
    "df = df[df[\"CityLocation\"].notnull()]\n",
    "\n",
    "df[\"CityLocation\"].replace(\"Delhi\", \"NCR\", inplace=True)\n",
    "df[\"CityLocation\"].replace(\"New Delhi\", \"NCR\", inplace=True)\n",
    "df[\"CityLocation\"].replace(\"Gurgaon\", \"NCR\", inplace=True)\n",
    "df[\"CityLocation\"].replace(\"Noida\", \"NCR\", inplace=True)\n",
    "df[\"CityLocation\"].replace(\"bangalore\", \"Bangalore\", inplace=True)\n",
    "\n",
    "location=[]\n",
    "for item in df[\"CityLocation\"]:\n",
    "    loc=item.split('/')[0].strip()\n",
    "    location.append(loc)\n",
    "\n",
    "df_city=pd.DataFrame(location)\n",
    "df_city.columns=['city']\n",
    "count=df_city['city'].value_counts()[:3]\n",
    "\n",
    "for i in range(0,3):\n",
    "    print(str(count.index[i])+\" \"+str(count.values[i]))\n",
    "\n",
    "plt.bar(count.index,count.values,width=0.3)\n",
    "plt.xlabel('Startup City')\n",
    "plt.ylabel('Funding Round')\n",
    "plt.show()\n"
   ]
  },
  {
   "cell_type": "markdown",
   "metadata": {},
   "source": [
    "#### Case Study : Question 2"
   ]
  },
  {
   "cell_type": "markdown",
   "metadata": {},
   "source": [
    "##### Even after trying for so many times, your friend’s startup could not find the investment. So you decided to take this matter in your hand and try to find the list of investors who probably can invest in your friend’s startup. Your list will increase the chance of your friend startup getting some initial investment by contacting these investors. Find the top 5 investors who have invested maximum number of times (consider repeat investments in one company also). In a startup, multiple investors might have invested. So consider each investor for that startup. Ignore undisclosed investors."
   ]
  },
  {
   "cell_type": "code",
   "execution_count": 34,
   "metadata": {},
   "outputs": [
    {
     "name": "stdout",
     "output_type": "stream",
     "text": [
      "Sequoia Capital 64\n",
      "Accel Partners 53\n",
      "Kalaari Capital 44\n",
      "SAIF Partners 41\n",
      "Indian Angel Network 40\n"
     ]
    }
   ],
   "source": [
    "import pandas as pd\n",
    "import numpy as np\n",
    "import matplotlib.pyplot as plt\n",
    "df=pd.read_csv('startup_funding.csv',encoding='utf-8')\n",
    "\n",
    "df.dropna(subset=['StartupName'],inplace=True)\n",
    "df = df[df[\"InvestorsName\"].notnull()]\n",
    "\n",
    "def investor_dict(namearray):\n",
    "    dict={}\n",
    "    for i in namearray:\n",
    "        if ',' not in i:\n",
    "            if i in dict:\n",
    "                dict[i]=dict.get(i)+1\n",
    "            else:\n",
    "                dict[i]=1\n",
    "        else:\n",
    "            string=i.strip().split(',')\n",
    "            for j in string:\n",
    "                if j.strip() in dict:\n",
    "                    dict[j.strip()]=dict.get(j.strip())+1\n",
    "                else:\n",
    "                    dict[j.strip()]=1\n",
    "    return dict\n",
    "\n",
    "dict=investor_dict(df['InvestorsName'])\n",
    "\n",
    "dataf=pd.DataFrame(list(dict.values()),list(dict.keys()))\n",
    "\n",
    "dataf=dataf.sort_values(by=[0],ascending=False)[:5]\n",
    "\n",
    "for i in range(5):\n",
    "    print(dataf.index[i],dataf.values[i][0])\n",
    "    \n"
   ]
  },
  {
   "cell_type": "markdown",
   "metadata": {},
   "source": [
    "#### Case Study : Question 3"
   ]
  },
  {
   "cell_type": "markdown",
   "metadata": {},
   "source": [
    "##### After re-analysing the dataset you found out that some investors have invested in the same startup at different number of funding rounds. So before finalising the previous list, you want to improvise it by finding the top 5 investors who have invested in different number of startups. This list will be more helpful than your previous list in finding the investment for your friend startup. Find the top 5 investors who have invested maximum number of times in different companies. That means, if one investor has invested multiple times in one startup, count one for that company. There are many errors in startup names. Ignore correcting all, just handle the important ones - Ola, Flipkart, Oyo and Paytm."
   ]
  },
  {
   "cell_type": "code",
   "execution_count": 185,
   "metadata": {},
   "outputs": [
    {
     "name": "stdout",
     "output_type": "stream",
     "text": [
      "Sequoia Capital 48\n",
      "Accel Partners 47\n",
      "Kalaari Capital 41\n",
      "Indian Angel Network 40\n",
      "Blume Ventures 36\n"
     ]
    }
   ],
   "source": [
    "import pandas as pd\n",
    "import numpy as np\n",
    "import matplotlib.pyplot as plt\n",
    "df=pd.read_csv('startup_funding.csv',encoding='utf-8')\n",
    "\n",
    "\n",
    "df = df[df[\"InvestorsName\"].notnull()]\n",
    "df = df[df['StartupName'].notnull()]\n",
    "\n",
    "df['StartupName'].replace('Olacabs','Ola',inplace = True)\n",
    "df['StartupName'].replace('Ola Cabs','Ola',inplace = True)\n",
    "df['StartupName'].replace('Flipkart.com','Flipkart',inplace = True)\n",
    "df['StartupName'].replace('Paytm Marketplace','Paytm',inplace = True)\n",
    "df['StartupName'].replace('Oyo Rooms','Oyo',inplace = True)\n",
    "df['StartupName'].replace('Oyorooms','Oyo',inplace = True)\n",
    "df['StartupName'].replace('OyoRooms','Oyo',inplace = True)\n",
    "df['StartupName'].replace('OYO Rooms','Oyo',inplace = True)\n",
    "\n",
    "def investor_dict(namearray,startuparray):\n",
    "    list2d=[]\n",
    "    length=len(namearray)\n",
    "\n",
    "    for i in range(length):\n",
    "\n",
    "        if ',' not in namearray[i]:\n",
    "            list2d.append([namearray[i],startuparray[i]])\n",
    "                                \n",
    "        else:\n",
    "            string=namearray[i].split(',')\n",
    "            for j in string:\n",
    "                val=j.strip()\n",
    "                list2d.append([val,startuparray[i]])\n",
    "\n",
    "    return list2d\n",
    "\n",
    "\n",
    "array1=np.array(df['InvestorsName'])\n",
    "array2=np.array(df['StartupName'])\n",
    "list2d=investor_dict(array1,array2)\n",
    "\n",
    "df_1=pd.DataFrame(list2d)\n",
    "\n",
    "df_1.dropna(axis=0, how='any',inplace=True)\n",
    "df_1.columns=['Investor','Startup']\n",
    "df_1=df_1[df_1['Investor']!='']\n",
    "df_1=df_1[df_1['Investor']!='Undisclosed Investors']\n",
    "df_1.drop_duplicates(subset=None, keep='first', inplace=True)\n",
    "df_1 = df_1[df_1['Investor'].notnull()]\n",
    "count=df_1['Investor'].value_counts()\n",
    "\n",
    "\n",
    "for i in range(5):\n",
    "        print(str(count.index[i])+\" \"+str(count.values[i]))\n",
    "\n",
    "\n",
    "\n"
   ]
  },
  {
   "cell_type": "markdown",
   "metadata": {},
   "source": [
    "#### Case Study : Question 4"
   ]
  },
  {
   "cell_type": "markdown",
   "metadata": {},
   "source": [
    "##### Even after putting so much effort in finding the probable investors, it didn't turn out to be helpful for your friend. So you went to your investor friend to understand the situation better and your investor friend explained to you about the different Investment Types and their features. This new information will be helpful in finding the right investor. Since your friend startup is at an early stage startup, the best-suited investment type would be - Seed Funding and Crowdfunding. Find the top 5 investors who have invested in a different number of startups and their investment type is Crowdfunding or Seed Funding. Correct spelling of investment types are - \"Private Equity\", \"Seed Funding\", \"Debt Funding\", and \"Crowd Funding\". Keep an eye for any spelling mistake. You can find this by printing unique values from this column. There are many errors in startup names. Ignore correcting all, just handle the important ones - Ola, Flipkart, Oyo and Paytm."
   ]
  },
  {
   "cell_type": "code",
   "execution_count": 31,
   "metadata": {},
   "outputs": [
    {
     "name": "stdout",
     "output_type": "stream",
     "text": [
      "Indian Angel Network 33\n",
      "Rajan Anandan 23\n",
      "Anupam Mittal 16\n",
      "LetsVenture 16\n",
      "Kunal Shah 14\n"
     ]
    }
   ],
   "source": [
    "import pandas as pd\n",
    "import numpy as np\n",
    "import matplotlib.pyplot as plt\n",
    "\n",
    "df=pd.read_csv('startup_funding.csv',encoding='utf-8')\n",
    "\n",
    "df = df[df[\"InvestmentType\"].notnull()]\n",
    "df = df[df['StartupName'].notnull()]\n",
    "df = df[df[\"InvestorsName\"].notnull()]\n",
    "\n",
    "\n",
    "df[\"InvestmentType\"].replace(\"SeedFunding\", \"Seed Funding\", inplace=True)    # clean data\n",
    "df[\"InvestmentType\"].replace(\"PrivateEquity\", \"Private Equity\", inplace=True)  # clean data\n",
    "df[\"InvestmentType\"].replace(\"Crowd funding\", \"Crowd Funding\", inplace=True)  # clean data\n",
    "df=df.loc[df['InvestmentType']!='nan']\n",
    "\n",
    "df['StartupName'].replace('Olacabs','Ola',inplace = True)\n",
    "df['StartupName'].replace('Ola Cabs','Ola',inplace = True)\n",
    "df['StartupName'].replace('Flipkart.com','Flipkart',inplace = True)\n",
    "df['StartupName'].replace('Paytm Marketplace','Paytm',inplace = True)\n",
    "df['StartupName'].replace('Oyo Rooms','Oyo',inplace = True)\n",
    "df['StartupName'].replace('Oyorooms','Oyo',inplace = True)\n",
    "df['StartupName'].replace('OyoRooms','Oyo',inplace = True)\n",
    "df['StartupName'].replace('OYO Rooms','Oyo',inplace = True)\n",
    "\n",
    "# filtering only Seed Funding and Crowdfunding\n",
    "\n",
    "df=df[df['InvestmentType']!='Private Equity']\n",
    "df=df[df['InvestmentType']!='Debt Funding']\n",
    "\n",
    "def investor_dict(namearray,startuparray):\n",
    "    list2d=[]\n",
    "    length=len(namearray)\n",
    "\n",
    "    for i in range(length):\n",
    "\n",
    "        if ',' not in namearray[i]:\n",
    "            list2d.append([namearray[i],startuparray[i]])\n",
    "                                \n",
    "        else:\n",
    "            string=namearray[i].split(',')\n",
    "            for j in string:\n",
    "                val=j.strip()\n",
    "                list2d.append([val,startuparray[i]])\n",
    "\n",
    "    return list2d\n",
    "\n",
    "\n",
    "array1=np.array(df['InvestorsName'])\n",
    "array2=np.array(df['StartupName'])\n",
    "list2d=investor_dict(array1,array2)\n",
    "\n",
    "df_1=pd.DataFrame(list2d)\n",
    "\n",
    "df_1.dropna(axis=0, how='any',inplace=True)\n",
    "df_1.columns=['Investor','Startup']\n",
    "df_1=df_1[df_1['Investor']!='']\n",
    "df_1=df_1[df_1['Investor']!='Undisclosed Investors' ]\n",
    "df_1=df_1[df_1['Investor']!='Undisclosed investors' ]\n",
    "df_1.drop_duplicates(subset=None, keep='first', inplace=True)\n",
    "df_1 = df_1[df_1['Investor'].notnull()]\n",
    "count=df_1['Investor'].value_counts()\n",
    "\n",
    "\n",
    "for i in range(5):\n",
    "        print(str(count.index[i])+\" \"+str(count.values[i]))\n",
    "\n"
   ]
  },
  {
   "cell_type": "markdown",
   "metadata": {},
   "source": [
    "#### Case Study : Question 5"
   ]
  },
  {
   "cell_type": "markdown",
   "metadata": {},
   "source": [
    "##### Due to your immense help, your friend startup successfully got seed funding and it is on the operational mode. Now your friend wants to expand his startup and he is looking for new investors for his startup. Now you again come as a saviour to help your friend and want to create a list of probable new new investors. Before moving forward you remember your investor friend advice that finding the investors by analysing the investment type. Since your friend startup is not in early phase it is in growth stage so the best-suited investment type is Private Equity. Find the top 5 investors who have invested in a different number of startups and their investment type is Private Equity. Correct spelling of investment types are - \"Private Equity\", \"Seed Funding\", \"Debt Funding\", and \"Crowd Funding\". Keep an eye for any spelling mistake. You can find this by printing unique values from this column.There are many errors in startup names. Ignore correcting all, just handle the important ones - Ola, Flipkart, Oyo and Paytm."
   ]
  },
  {
   "cell_type": "code",
   "execution_count": 29,
   "metadata": {},
   "outputs": [
    {
     "name": "stdout",
     "output_type": "stream",
     "text": [
      "Sequoia Capital 45\n",
      "Accel Partners 43\n",
      "Kalaari Capital 35\n",
      "Blume Ventures 27\n",
      "SAIF Partners 24\n"
     ]
    }
   ],
   "source": [
    "import pandas as pd\n",
    "import numpy as np\n",
    "import matplotlib.pyplot as plt\n",
    "\n",
    "df=pd.read_csv('startup_funding.csv',encoding='utf-8')\n",
    "\n",
    "df = df[df[\"InvestmentType\"].notnull()]\n",
    "df = df[df['StartupName'].notnull()]\n",
    "df = df[df[\"InvestorsName\"].notnull()]\n",
    "\n",
    "\n",
    "df[\"InvestmentType\"].replace(\"SeedFunding\", \"Seed Funding\", inplace=True)    # clean data\n",
    "df[\"InvestmentType\"].replace(\"PrivateEquity\", \"Private Equity\", inplace=True)  # clean data\n",
    "df[\"InvestmentType\"].replace(\"Crowd funding\", \"Crowd Funding\", inplace=True)  # clean data\n",
    "df=df.loc[df['InvestmentType']!='nan']\n",
    "\n",
    "df['StartupName'].replace('Olacabs','Ola',inplace = True)\n",
    "df['StartupName'].replace('Ola Cabs','Ola',inplace = True)\n",
    "df['StartupName'].replace('Flipkart.com','Flipkart',inplace = True)\n",
    "df['StartupName'].replace('Paytm Marketplace','Paytm',inplace = True)\n",
    "df['StartupName'].replace('Oyo Rooms','Oyo',inplace = True)\n",
    "df['StartupName'].replace('Oyorooms','Oyo',inplace = True)\n",
    "df['StartupName'].replace('OyoRooms','Oyo',inplace = True)\n",
    "df['StartupName'].replace('OYO Rooms','Oyo',inplace = True)\n",
    "\n",
    "# filtering only Private Equity\n",
    "\n",
    "df=df[df['InvestmentType']=='Private Equity']\n",
    "\n",
    "\n",
    "def investor_dict(namearray,startuparray):\n",
    "    list2d=[]\n",
    "    length=len(namearray)\n",
    "\n",
    "    for i in range(length):\n",
    "\n",
    "        if ',' not in namearray[i]:\n",
    "            list2d.append([namearray[i],startuparray[i]])\n",
    "                                \n",
    "        else:\n",
    "            string=namearray[i].split(',')\n",
    "            for j in string:\n",
    "                val=j.strip()\n",
    "                list2d.append([val,startuparray[i]])\n",
    "\n",
    "    return list2d\n",
    "\n",
    "\n",
    "array1=np.array(df['InvestorsName'])\n",
    "array2=np.array(df['StartupName'])\n",
    "list2d=investor_dict(array1,array2)\n",
    "\n",
    "df_1=pd.DataFrame(list2d)\n",
    "\n",
    "df_1.dropna(axis=0, how='any',inplace=True)\n",
    "df_1.columns=['Investor','Startup']\n",
    "df_1.drop_duplicates(subset=None, keep='first', inplace=True)\n",
    "df_1 = df_1[df_1['Investor'].notnull()]\n",
    "count=df_1['Investor'].value_counts()\n",
    "\n",
    "\n",
    "for i in range(5):\n",
    "        print(str(count.index[i])+\" \"+str(count.values[i]))\n",
    "\n"
   ]
  },
  {
   "cell_type": "code",
   "execution_count": null,
   "metadata": {},
   "outputs": [],
   "source": []
  }
 ],
 "metadata": {
  "kernelspec": {
   "display_name": "Python 3",
   "language": "python",
   "name": "python3"
  },
  "language_info": {
   "codemirror_mode": {
    "name": "ipython",
    "version": 3
   },
   "file_extension": ".py",
   "mimetype": "text/x-python",
   "name": "python",
   "nbconvert_exporter": "python",
   "pygments_lexer": "ipython3",
   "version": "3.8.5"
  }
 },
 "nbformat": 4,
 "nbformat_minor": 4
}
